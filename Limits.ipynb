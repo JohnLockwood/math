{
 "cells": [
  {
   "cell_type": "code",
   "execution_count": 1,
   "id": "8c25e491-fcbc-4b1a-a2a8-3b14fdb48981",
   "metadata": {},
   "outputs": [
    {
     "name": "stdout",
     "output_type": "stream",
     "text": [
      "\n"
     ]
    }
   ],
   "source": [
    "from sympy import init_session\n",
    "init_session(quiet=True)"
   ]
  },
  {
   "cell_type": "markdown",
   "id": "6eb18ea5-c956-4440-84da-c9ef2fb4d6a0",
   "metadata": {},
   "source": [
    "# Limits Syllabus Goals\n",
    "\n",
    "Working on this through week ending October 9, 2022.  \n",
    "\n",
    "> _\"The problems are the solution.\"_ (Johnsin University B.S. Program Guide)\n",
    "\n",
    "Assignments:\n",
    "    \n",
    "* [Paul's Math Notes Limits Index](https://tutorial.math.lamar.edu/Classes/CalcI/LimitsIntro.aspx).\n",
    "* Paul's Math Notes on L'Hospital's Rule.\n",
    "* Review Asympotes vs Holes Professor Leonard Notes. Organize some sample problems around this.\n",
    "    \n",
    "Try for example on $ \\frac{sin(x)}{x} $ or other hard-to-do problems.  Inductively work with L'Hospital's rule.\n",
    "    "
   ]
  },
  {
   "cell_type": "markdown",
   "id": "7ead2227-b172-4947-a1e1-f357927919ad",
   "metadata": {},
   "source": [
    "## Different Types of Limits:\n",
    "\n",
    "* Non-rational polynomials are easy, can always do by substitution.  e.g. $\\lim_{x\\to2} 3x^2 + 2x - 9 = 7$.  Paul's math notes expresses this formally thus:  If p(a) is a polynomial, then $\\lim_{x\\to a} p(x) = p(a)$.\n",
    "\n",
    "### For rational polynomials:\n",
    "* If substituting gives non-zero in numerator and denominator, easy peasy, $\\lim_{x\\to2}\\frac{3x^2 + 2x - 9 = 24}{2x +3} = \\frac{7}{7} = 1$\n",
    "* Zero in numerator only is fine. So for example $\\lim_{x\\to2}\\frac{x^2 - 4}{3x + 7} = \\frac{0}{7} = 0$ Note also in Python, print(0/anything) = 0.0.\n",
    "* __Zero in denominator only is an asymptote or DNE because asymptotes are one-sided.__ That is, answer will be always be either $\\infty$, $- \\infty$, or $\\pm\\infty$ depending on the direction, right-hand limit, left-hand limit, etc. The sign is what tells you what's happening at each direction.  The proof is, if you're approaching zero, you're dividing by, for example $\\frac{1}{10},\\frac{1}{100},...$ Dividing by fraction = multiplying by reciprocal of denominator, ie. by $10, 100, 1000, 10000...$.  So you're going toward infinity. For example $\\lim_{x\\to2}\\frac{3x + 7}{x^2 - 4} = \\:?$.  See the [graph](https://www.desmos.com/calculator/zuea89ausp).  Because of this, __you have to check denominator by plugging in values > and < x (informal \"sign analysis\").__  Any easy values above and below are OK.  For example, given denom of $x^2 - 4$, if x is 1, get $1^2 - 4 = 1 - 4 = -3$, negative.  But for x = 3, get $3^2 - 4 = 9 - 4 = 5$, positive.  And sure enough, graph shows $\\lim_{x\\to0^{+}} = +\\infty $ and $\\lim_{x\\to0^{-}}= -\\infty$ but _the_ limit does not exist.\n",
    "\n",
    "(See limit notes below on functions at infinity -- relearned today in Goodman's Barron's Calculus section 3.3.)"
   ]
  },
  {
   "cell_type": "markdown",
   "id": "919b859c-8604-4a66-a057-349e9e7f4f9f",
   "metadata": {},
   "source": [
    "Continuity and Limits from Paul's Math Notes:\n",
    "## Definition of continuity\n",
    "A function $f(x)$ is continuous at $x = a$ if \n",
    "\n",
    "$$\n",
    "\\lim_{x\\to a} f(x) = f(a)\n",
    "$$\n",
    "\n",
    "A function is said to be continuous on the interval $[a,b]$ if it is continuous at each point on the interval. \n",
    "\n",
    "The corrolary of this is that if $f(x)$ is continuous at $x = a$, then the following is true:\n",
    "\n",
    "$$\n",
    "\\lim_{x\\to a} f(x) = \\lim_{x\\to a+} f(x) = \\lim_{x\\to a-} f(x) = f(a)\n",
    "$$\n",
    "\n"
   ]
  },
  {
   "cell_type": "code",
   "execution_count": 2,
   "id": "19526072-ec6c-4f76-be6b-b3af14903191",
   "metadata": {},
   "outputs": [
    {
     "name": "stdout",
     "output_type": "stream",
     "text": [
      "7\n",
      "1\n",
      "0\n"
     ]
    }
   ],
   "source": [
    "# Checking math on above in SymPy\n",
    "from sympy.plotting import plot\n",
    "print(limit(3*x**2 + 2*x - 9, x, 2))\n",
    "print(limit((3*x**2 + 2*x - 9)/(2*x + 3), x, 2))\n",
    "print(limit((x**2 - 4)/(3*x + 7), x, 2))\n"
   ]
  },
  {
   "cell_type": "markdown",
   "id": "24a52028-efe4-41bf-bbf5-3b7ca22e419e",
   "metadata": {},
   "source": [
    "## Weekly review\n",
    "\n",
    "* Sat did about 1 hour on above notes.\n",
    "* Sun 1.5 hours \n",
    "* Mon 3 hours.  Hard, and not much writing done.\n",
    "* Tues 2.5 Hours.\n",
    "* Wed 2.0 hours 1.5 reviewing limits and a Set Theory Youtube introduction\n",
    "* Thur 2-ish (began working again on Derivatives)\n",
    "* Fri TBD\n",
    "\n",
    "___ \n",
    "12 hours (Not counting Friday -- TBD)\n",
    "\n",
    "\n",
    "Getting to three hours per day didn't really work, and cut a whole in writing (see Monday).  Mostly the limits work went well, lots of problems done early in the week. Slowed down on quadratic review.  Did not really do much with L'Hopital yet."
   ]
  },
  {
   "cell_type": "markdown",
   "id": "453866c1-ccf5-485c-b745-e140c13da3fc",
   "metadata": {},
   "source": [
    "# Limits Notes (Original)\n",
    "\n",
    "This part of notes from [Calc 1 3.5 Limits of Functions at Infinity](https://www.youtube.com/watch?v=-PYebK8DKPc&t=1s). When numerator equals zero, that's a point, zero, fine.  When denominator equals zero, that's a discontinuity. \n",
    "\n",
    "It's a removeable discontinuity if you can factor it; you can tell this often if you get $\\frac{0}{0}$. Otherwise it's an asymptote -- can't be canceled, only in denom.\n",
    "\n",
    "We should be able to show this in Sympy."
   ]
  },
  {
   "cell_type": "markdown",
   "id": "fba1d05f-a054-4c8d-bca1-d31e92ce9256",
   "metadata": {},
   "source": [
    "$$\n",
    "y = mx +b\n",
    "$$"
   ]
  },
  {
   "cell_type": "code",
   "execution_count": 3,
   "id": "24deca57-6668-4d44-a072-6140e437394f",
   "metadata": {},
   "outputs": [
    {
     "data": {
      "image/png": "[encoded data removed]",
      "text/latex": [
       "$\\displaystyle \\frac{x}{\\left(x - 1\\right) \\left(x + 3\\right)}$"
      ],
      "text/plain": [
       "       x       \n",
       "───────────────\n",
       "(x - 1)⋅(x + 3)"
      ]
     },
     "execution_count": 3,
     "metadata": {},
     "output_type": "execute_result"
    }
   ],
   "source": [
    "f = x / ( (x + 3) * (x - 1) )\n",
    "f"
   ]
  },
  {
   "cell_type": "markdown",
   "id": "a60305ee-d4e9-41e3-a606-33bc254f25ec",
   "metadata": {},
   "source": [
    "This should have two asymptotes at + 1 and -3 (NOT at zero, numerator is fine)."
   ]
  },
  {
   "cell_type": "code",
   "execution_count": 4,
   "id": "9eb9e96e-3040-45bf-a7da-a2015c006f6a",
   "metadata": {},
   "outputs": [
    {
     "data": {
      "image/png": "[encoded data removed]",
      "text/plain": [
       "<Figure size 640x480 with 1 Axes>"
      ]
     },
     "metadata": {},
     "output_type": "display_data"
    },
    {
     "data": {
      "text/plain": [
       "<sympy.plotting.plot.Plot at 0x10fb0ded0>"
      ]
     },
     "execution_count": 4,
     "metadata": {},
     "output_type": "execute_result"
    }
   ],
   "source": [
    "%matplotlib inline\n",
    "plot(f, xlim=(-4, 2), ylim=(-10, 10))"
   ]
  },
  {
   "cell_type": "markdown",
   "id": "061f5d56-8dae-4afe-b4d9-253c053be1b1",
   "metadata": {},
   "source": [
    "For the following function, the x-1 gets cancelled out.  So this has ONE asymptote at -3.s"
   ]
  },
  {
   "cell_type": "code",
   "execution_count": 5,
   "id": "ea52284e-4915-40a3-851d-ae1ec6bd0b36",
   "metadata": {},
   "outputs": [
    {
     "data": {
      "image/png": "[encoded data removed]",
      "text/latex": [
       "$\\displaystyle \\frac{1}{x + 3}$"
      ],
      "text/plain": [
       "  1  \n",
       "─────\n",
       "x + 3"
      ]
     },
     "execution_count": 5,
     "metadata": {},
     "output_type": "execute_result"
    }
   ],
   "source": [
    "%matplotlib inline\n",
    "g = (x - 1) / ((x + 3) * (x - 1) )\n",
    "g"
   ]
  },
  {
   "cell_type": "code",
   "execution_count": 6,
   "id": "ac6f479c-4bba-4b72-a64c-bb795b114e2d",
   "metadata": {},
   "outputs": [
    {
     "data": {
      "image/png": "[encoded data removed]",
      "text/plain": [
       "<Figure size 640x480 with 1 Axes>"
      ]
     },
     "metadata": {},
     "output_type": "display_data"
    },
    {
     "data": {
      "text/plain": [
       "<sympy.plotting.plot.Plot at 0x10f1b0d90>"
      ]
     },
     "execution_count": 6,
     "metadata": {},
     "output_type": "execute_result"
    }
   ],
   "source": [
    "plot(g, xlim=(-4, 2), ylim=(-10, 10))"
   ]
  },
  {
   "cell_type": "markdown",
   "id": "cf78e875-0389-4838-b699-1bd1124aa343",
   "metadata": {},
   "source": [
    "To determine which way it's going, just plug in numbers along interval.  So given asymptotes at -3, 1, can plug in values for intervals > 1 and < -3.  "
   ]
  },
  {
   "cell_type": "code",
   "execution_count": 7,
   "id": "09e670e7-5fc8-4c8f-bce5-7e3339d9d9e2",
   "metadata": {},
   "outputs": [
    {
     "data": {
      "image/png": "[encoded data removed]",
      "text/latex": [
       "$\\displaystyle \\left[ - \\frac{4}{5}, \\  0.133333333333333, \\  -0.285714285714286, \\  \\frac{2}{5}\\right]$"
      ],
      "text/plain": [
       "[-4/5, 0.133333333333333, -0.285714285714286, 2/5]"
      ]
     },
     "execution_count": 7,
     "metadata": {},
     "output_type": "execute_result"
    }
   ],
   "source": [
    "[f.subs(x, i) for i  in (-4, -.5, .5, 2)]"
   ]
  },
  {
   "cell_type": "code",
   "execution_count": 8,
   "id": "18415ae9-9e90-4616-b555-369bb348761f",
   "metadata": {},
   "outputs": [
    {
     "data": {
      "image/png": "[encoded data removed]",
      "text/latex": [
       "$\\displaystyle - \\frac{4}{5}$"
      ],
      "text/plain": [
       "-4/5"
      ]
     },
     "execution_count": 8,
     "metadata": {},
     "output_type": "execute_result"
    }
   ],
   "source": [
    "f.subs(x, -4)"
   ]
  },
  {
   "cell_type": "code",
   "execution_count": 9,
   "id": "d1c250c6-2372-473a-b4d1-ff327504a448",
   "metadata": {},
   "outputs": [
    {
     "ename": "SyntaxError",
     "evalue": "invalid syntax (60756867.py, line 1)",
     "output_type": "error",
     "traceback": [
      "\u001b[0;36m  Cell \u001b[0;32mIn[9], line 1\u001b[0;36m\u001b[0m\n\u001b[0;31m    So limit doesn't exist at -3 or 1, because not going in same direction.  Limit DOES exist at zero, because it's a point.\u001b[0m\n\u001b[0m       ^\u001b[0m\n\u001b[0;31mSyntaxError\u001b[0m\u001b[0;31m:\u001b[0m invalid syntax\n"
     ]
    }
   ],
   "source": [
    "So limit doesn't exist at -3 or 1, because not going in same direction.  Limit DOES exist at zero, because it's a point."
   ]
  },
  {
   "cell_type": "markdown",
   "id": "88950e3a-09b4-4681-bd4f-621c416d6108",
   "metadata": {},
   "source": [
    "## Example\n"
   ]
  },
  {
   "cell_type": "code",
   "execution_count": null,
   "id": "d8e2e851-6187-4a89-8b64-f5497b148c05",
   "metadata": {},
   "outputs": [],
   "source": [
    "h = t**3 / (t**2 -1)**2\n",
    "h"
   ]
  },
  {
   "cell_type": "markdown",
   "id": "1e202daa-8ff9-42bc-b158-ea942aae3c7c",
   "metadata": {},
   "source": [
    "By factoring t squared - 1, get:"
   ]
  },
  {
   "cell_type": "code",
   "execution_count": null,
   "id": "d2d4dfde-5818-4aae-af1f-ca54a6ea555c",
   "metadata": {},
   "outputs": [],
   "source": [
    "(t + 1)*(t- 1)"
   ]
  },
  {
   "cell_type": "markdown",
   "id": "62c18761-461d-418f-b436-b1c31b82c5a3",
   "metadata": {},
   "source": [
    "So discontinuities at 1, -1. these are asymptotes.  So we could substitute:\n",
    "\n"
   ]
  },
  {
   "cell_type": "code",
   "execution_count": null,
   "id": "885483ba-a80e-4907-80e8-8a2051e6f3b8",
   "metadata": {},
   "outputs": [],
   "source": [
    "[h.subs(t, i) for i  in (-2, -.5, .5, 2)]"
   ]
  },
  {
   "cell_type": "markdown",
   "id": "4cae9387-cbe6-4860-8376-b40b804768a1",
   "metadata": {},
   "source": [
    "So my guess is we'll get limits at negative infinity, infinity.\n",
    "I was right about guess I think but graph looks like hell in this case.  Looks better on [Desmos](https://www.desmos.com/calculator/qwyl3yehs1)"
   ]
  },
  {
   "cell_type": "code",
   "execution_count": null,
   "id": "e893a6bf-8f14-43f6-b36a-14641c6af202",
   "metadata": {},
   "outputs": [],
   "source": [
    "%matplotlib inline\n",
    "plot(h, xlim=(-3, 3), ylim=(-100, +100), )\n",
    "\n"
   ]
  },
  {
   "cell_type": "markdown",
   "id": "283a3041-0e1b-4400-9f43-744b76dd2282",
   "metadata": {},
   "source": [
    "Next he asks what happens as x --> + oo or x --> - oo, for example:\n",
    "\n",
    "$$\n",
    "\\lim_{x \\to -\\infty} \\frac{1}{x}\n",
    "$$\n",
    "\n",
    "$$\n",
    "\\lim_{x \\to \\infty} \\frac{1}{x}\n",
    "$$\n",
    "\n",
    "Using a table x, f(x) for 1, 10, 100, 10000000, showed that limit approaching positive infinity is zero.  Same for negative infinity case.\n",
    "\n",
    "So if f(x) gets \"really close\" to a certain number as x -> +/- oo, then the LIMIT EXISTS.  But what does it mean?  So you end up with a HORIZONTAL asymptote.\n",
    "\n",
    "So: \n",
    "\n",
    "* Vertical asymptote:  When you have a non-removal discontinuity.\n",
    "* Horizontal asymptote: if you have a limit for f(x) as x gets really close to a certain number as x -> +/- infinity.\n"
   ]
  },
  {
   "cell_type": "markdown",
   "id": "69108bab-2d07-4d60-a664-d4a5b8e3be57",
   "metadata": {},
   "source": [
    "Also, because we can pull out any exponent, any constant / some variable to the nth power e.g. \n",
    "\n",
    "$$\n",
    "\\frac{1}{x^n}\n",
    "$$"
   ]
  },
  {
   "cell_type": "markdown",
   "id": "0538ce78-0ec3-4ff1-a04e-d55f75fa1d49",
   "metadata": {},
   "source": [
    "The limit of polynomial as x -> +/- oo:\n",
    "\n",
    "Polynomials always have tails going up or down or both.  Never actually go to a number, they go to infinity in one direction or other as x goes to +/- infinity."
   ]
  },
  {
   "cell_type": "code",
   "execution_count": null,
   "id": "c1ffe065-c912-4ab6-9798-d7492b92951e",
   "metadata": {},
   "outputs": [],
   "source": [
    "# Scratch\n",
    "cos(0)\n",
    "cos(.00001)"
   ]
  },
  {
   "cell_type": "code",
   "execution_count": null,
   "id": "b05ff760-21b6-4809-83ea-744d9e5f4b32",
   "metadata": {},
   "outputs": [],
   "source": [
    "cos(.001)"
   ]
  },
  {
   "cell_type": "code",
   "execution_count": null,
   "id": "eb7a36c2-da5e-4e94-b8f2-5bcfbd91342d",
   "metadata": {},
   "outputs": [],
   "source": [
    "cos(-.001)"
   ]
  },
  {
   "cell_type": "code",
   "execution_count": null,
   "id": "2d5d8b2b-e7f6-4b04-9693-957b1cb54327",
   "metadata": {},
   "outputs": [],
   "source": []
  }
 ],
 "metadata": {
  "kernelspec": {
   "display_name": "Python 3 (ipykernel)",
   "language": "python",
   "name": "python3"
  },
  "language_info": {
   "codemirror_mode": {
    "name": "ipython",
    "version": 3
   },
   "file_extension": ".py",
   "mimetype": "text/x-python",
   "name": "python",
   "nbconvert_exporter": "python",
   "pygments_lexer": "ipython3",
   "version": "3.11.2"
  }
 },
 "nbformat": 4,
 "nbformat_minor": 5
}
