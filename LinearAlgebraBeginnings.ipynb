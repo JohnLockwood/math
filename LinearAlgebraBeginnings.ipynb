{
 "cells": [
  {
   "cell_type": "markdown",
   "id": "41a444ae-de37-4e9a-90d0-268839df13f2",
   "metadata": {},
   "source": [
    "# Interesting Linear Algebra Stuff\n",
    "\n",
    "* [Margot Gerritsen on \"Linear Algebra - the incredible beauty of math\"](https://www.youtube.com/watch?v=s6p864XVxeU)\n",
    "* Mike X Cohen, [Linear Algebra: Theory, Intution, Code](https://www.amazon.com/Linear-Algebra-Theory-Intuition-Code/dp/9083136604/ref=sr_1_4?crid=IZV3UWDX3TTM&keywords=Linear+Algebra&qid=1661448787&s=books&sprefix=linear+algebra%2Cstripbooks%2C108&sr=1-4).  Or [Udemy Course](https://www.udemy.com/course/linear-algebra-theory-and-implementation/)\n",
    "* [Gilbert Strang homepage](https://math.mit.edu/~gs/).  Lots of good stuff available from here."
   ]
  },
  {
   "cell_type": "code",
   "execution_count": null,
   "id": "aa3f2e4b-0e0e-4cca-a8f2-b7802293664b",
   "metadata": {},
   "outputs": [],
   "source": []
  }
 ],
 "metadata": {
  "kernelspec": {
   "display_name": "Python 3 (ipykernel)",
   "language": "python",
   "name": "python3"
  },
  "language_info": {
   "codemirror_mode": {
    "name": "ipython",
    "version": 3
   },
   "file_extension": ".py",
   "mimetype": "text/x-python",
   "name": "python",
   "nbconvert_exporter": "python",
   "pygments_lexer": "ipython3",
   "version": "3.10.6"
  }
 },
 "nbformat": 4,
 "nbformat_minor": 5
}
