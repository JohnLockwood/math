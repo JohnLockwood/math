{
 "cells": [
  {
   "cell_type": "markdown",
   "id": "e246dddf-7630-455f-b8fe-32dbc9546f60",
   "metadata": {},
   "source": [
    "# Derivatives Review and Practice\n",
    "\n",
    "The goal of this week or perhaps 2 weeks is to review, memorize and especially **practice exercise** the derivative rules, with particular emphasis on:\n",
    "\n",
    "* Quotient and product rule memorization and practice\n",
    "* Chain rule memorization and practice \n",
    "* Memorize trig derivatives and practice problems that include them\n",
    "\n",
    "Time permitting:\n",
    "\n",
    "* Some time on log(x) etc.\n",
    "* Implicit differentiation\n",
    "* Appplications\n",
    "\n",
    "\n",
    "Things to try:\n",
    "* One hour of evening reading or problems in evening, largely in Thomas / Finney. (Note Thomas matches Professor Leonard almost exactly on numbering)\n",
    "* Back off somewhat from three hour goal during week. Cuts into writing too much.\n",
    "\n",
    "\n",
    "## Review:\n",
    "\n",
    "* I backed off -- all the way it seems to backwards, though I did get some problems done early in the week.\n",
    "* Not sure what next week will look like at this point. Prioritizing writing, and today it's already past five, so deferring planning to the weekend.\n",
    "\n",
    "## For fun\n",
    "\n",
    "[Caluclus with Python](https://calc-again.readthedocs.io/en/latest/index.html)\n",
    "\n",
    "OK, this circle kind of works now but we need to fix axes according to this:  https://stackoverflow.com/questions/36505768/in-sympy-plotting-how-can-i-get-a-plot-with-a-fixed-aspect-ratio"
   ]
  },
  {
   "cell_type": "code",
   "execution_count": 21,
   "id": "670e1ec5-5104-420e-9431-9fce6ff96864",
   "metadata": {},
   "outputs": [
    {
     "data": {
      "image/png": "[encoded data removed]",
      "text/plain": [
       "<Figure size 640x480 with 1 Axes>"
      ]
     },
     "metadata": {},
     "output_type": "display_data"
    },
    {
     "data": {
      "text/plain": [
       "<sympy.plotting.plot.Plot at 0x154e82610>"
      ]
     },
     "execution_count": 21,
     "metadata": {},
     "output_type": "execute_result"
    }
   ],
   "source": [
    "import sympy as sp\n",
    "\n",
    "from sympy import plot_implicit, Eq, symbols\n",
    "x,y = symbols('x y')\n",
    "plot_implicit(Eq(x**2+y**2, 1))"
   ]
  },
  {
   "cell_type": "code",
   "execution_count": null,
   "id": "17312503-ede6-473e-ac09-e8ec183708fa",
   "metadata": {},
   "outputs": [],
   "source": []
  }
 ],
 "metadata": {
  "kernelspec": {
   "display_name": "Python 3 (ipykernel)",
   "language": "python",
   "name": "python3"
  },
  "language_info": {
   "codemirror_mode": {
    "name": "ipython",
    "version": 3
   },
   "file_extension": ".py",
   "mimetype": "text/x-python",
   "name": "python",
   "nbconvert_exporter": "python",
   "pygments_lexer": "ipython3",
   "version": "3.11.2"
  }
 },
 "nbformat": 4,
 "nbformat_minor": 5
}
