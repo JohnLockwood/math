{
 "cells": [
  {
   "cell_type": "markdown",
   "id": "e246dddf-7630-455f-b8fe-32dbc9546f60",
   "metadata": {},
   "source": [
    "# Derivatives Review and Practice\n",
    "\n",
    "The goal of this week or perhaps 2 weeks is to review, memorize and especially **practice exercise** the derivative rules, with particular emphasis on:\n",
    "\n",
    "* Quotient and product rule memorization and practice\n",
    "* Chain rule memorization and practice \n",
    "* Memorize trig derivatives and practice problems that include them\n",
    "\n",
    "Time permitting:\n",
    "\n",
    "* Some time on log(x) etc.\n",
    "* Implicit differentiation\n",
    "* Appplications\n",
    "\n",
    "\n",
    "Things to try:\n",
    "* One hour of evening reading or problems in evening, largely in Thomas / Finney. (Note Thomas matches Professor Leonard almost exactly on numbering)\n",
    "* Back off somewhat from three hour goal during week. Cuts into writing too much.\n",
    "\n",
    "## For fun\n",
    "\n",
    "[Caluclus with Python](https://calc-again.readthedocs.io/en/latest/index.html)"
   ]
  },
  {
   "cell_type": "code",
   "execution_count": null,
   "id": "670e1ec5-5104-420e-9431-9fce6ff96864",
   "metadata": {},
   "outputs": [],
   "source": []
  }
 ],
 "metadata": {
  "kernelspec": {
   "display_name": "Python 3 (ipykernel)",
   "language": "python",
   "name": "python3"
  },
  "language_info": {
   "codemirror_mode": {
    "name": "ipython",
    "version": 3
   },
   "file_extension": ".py",
   "mimetype": "text/x-python",
   "name": "python",
   "nbconvert_exporter": "python",
   "pygments_lexer": "ipython3",
   "version": "3.10.6"
  }
 },
 "nbformat": 4,
 "nbformat_minor": 5
}
