{
 "cells": [
  {
   "cell_type": "markdown",
   "id": "c5a4eab6-0f12-4dcf-b662-538b5bff2ff9",
   "metadata": {},
   "source": [
    "# Johnsin University\n",
    "\n",
    "_\"Knowledge ain't bad.\"_"
   ]
  },
  {
   "cell_type": "markdown",
   "id": "dc424b86-31c3-448d-857e-3e035bcfa0da",
   "metadata": {},
   "source": [
    "This is the Syllabus and Journal for my math studies.  It's unclear how to organize this as of now, but it needs to get out of the way so I can actually do some math.\n",
    "\n",
    "The goal for Week Ending 10-9-2022 is [Limits.ipynb](Limits.ipynb)."
   ]
  },
  {
   "cell_type": "markdown",
   "id": "80ceac5a-3a1a-4463-b174-7bbaa7c05c76",
   "metadata": {},
   "source": [
    "## Overview\n",
    "\n",
    "In general, we're assuming that 15 weeks at 15 hours per week is a college level course. "
   ]
  }
 ],
 "metadata": {
  "kernelspec": {
   "display_name": "Python 3 (ipykernel)",
   "language": "python",
   "name": "python3"
  },
  "language_info": {
   "codemirror_mode": {
    "name": "ipython",
    "version": 3
   },
   "file_extension": ".py",
   "mimetype": "text/x-python",
   "name": "python",
   "nbconvert_exporter": "python",
   "pygments_lexer": "ipython3",
   "version": "3.10.6"
  }
 },
 "nbformat": 4,
 "nbformat_minor": 5
}
