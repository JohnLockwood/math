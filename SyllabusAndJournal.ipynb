{
 "cells": [
  {
   "cell_type": "markdown",
   "id": "c5a4eab6-0f12-4dcf-b662-538b5bff2ff9",
   "metadata": {},
   "source": [
    "# Johnsin University\n",
    "\n",
    "> _\"Knowledge ain't bad.\"_"
   ]
  },
  {
   "cell_type": "markdown",
   "id": "dc424b86-31c3-448d-857e-3e035bcfa0da",
   "metadata": {},
   "source": [
    "This is the Syllabus and Journal for my math studies. This is the preliminary syllabus for the current course (see the Overview, below).\n",
    "\n",
    "> _\"This syllabus and the Jupyter notes are not the moon, they are the finger pointing at the moon.  The finger should be covered in fountain pen ink, because it's learning math.\"_\n",
    "\n",
    "That said, each week we'll do three things on Friday:\n",
    "\n",
    "\n",
    "* Do a final \"review section\" in Markdown from the current week.  By review we mean a review focused on how it went, <a href=\"#study_habits\">study habits</a>, etc.\n",
    "* Create a new notebook, the title of which will be a preliminary plan for the week to follow.\n",
    "* Link to the new notebook in the table below.\n",
    "\n",
    "Week | Tasks |\n",
    "---  | ---   |\n",
    "Week ending 10/9/2022 | [Limits.ipynb](Limits.ipynb)\n"
   ]
  },
  {
   "cell_type": "markdown",
   "id": "80ceac5a-3a1a-4463-b174-7bbaa7c05c76",
   "metadata": {},
   "source": [
    "## Overview\n",
    "\n",
    "In general, we're assuming that 15 weeks at 15 hours per week is a college level course. This is 225 learning hours.  If 15 hours per week is not sustainable, we'll need to adjust the weeks.\n",
    "\n",
    "### Current Work and Important Dates\n",
    "Currently we're doing Calculus $1101^0$, often called Calculus One in other universities.  It begins October 2, 2022.  It ends February 2, 2022."
   ]
  },
  {
   "cell_type": "markdown",
   "id": "3c33a61b-a19e-4e28-81e2-e49bbb2bea93",
   "metadata": {},
   "source": [
    "## Study Habits\n",
    "\n",
    "<a id=\"study_habits\"></a>\n",
    "Our target goal is __3 hours per day of math during the week__. This is twice as much as we were doing, so we'll need to figure out if it's sustainable. A typical learning day should have:\n",
    "\n",
    "* 2 hours of focused learning consisting primarily of working on exercises on paper and reading.  This can also include review, making / reviewing flash cards, etc.\n",
    "* One hour of video instruction or reading.\n",
    "\n",
    "As much as possible, we're learning how to do things by hand in this course. We can SymPy/WolframAlpha/etc. whatever answers we need to help us understand the concepts, but our focus in this three hours is working manually.  That doesn't mean we can't explore software in our CodeSolid time, however.\n"
   ]
  },
  {
   "cell_type": "code",
   "execution_count": null,
   "id": "6be57b11-4fef-4232-851c-fe0b7afe17db",
   "metadata": {},
   "outputs": [],
   "source": []
  }
 ],
 "metadata": {
  "kernelspec": {
   "display_name": "Python 3 (ipykernel)",
   "language": "python",
   "name": "python3"
  },
  "language_info": {
   "codemirror_mode": {
    "name": "ipython",
    "version": 3
   },
   "file_extension": ".py",
   "mimetype": "text/x-python",
   "name": "python",
   "nbconvert_exporter": "python",
   "pygments_lexer": "ipython3",
   "version": "3.10.6"
  }
 },
 "nbformat": 4,
 "nbformat_minor": 5
}
